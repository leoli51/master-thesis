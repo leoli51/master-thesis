{
 "cells": [
  {
   "cell_type": "code",
   "execution_count": null,
   "metadata": {},
   "outputs": [],
   "source": [
    "import os\n",
    "import sys\n",
    "from os import path\n",
    "from dotenv import load_dotenv\n",
    "\n",
    "random_seed = 42\n",
    "load_dotenv()\n",
    "sys.path.append(path.dirname(os.getcwd()))"
   ]
  },
  {
   "cell_type": "code",
   "execution_count": 7,
   "metadata": {},
   "outputs": [
    {
     "name": "stdout",
     "output_type": "stream",
     "text": [
      "0.33368983957219245\n"
     ]
    }
   ],
   "source": [
    "from sklearn.metrics import cohen_kappa_score\n",
    "import pandas as pd\n",
    "\n",
    "df = pd.read_csv(\"itw_labels.csv\")\n",
    "\n",
    "df_filtered = df[(df.y1 != \"TODO\") & (df.y2 != \"TODO\")]\n",
    "\n",
    "y1 = df_filtered[\"y1\"]\n",
    "y2 = df_filtered[\"y2\"]\n",
    "\n",
    "print(cohen_kappa_score(y1, y2))"
   ]
  }
 ],
 "metadata": {
  "kernelspec": {
   "display_name": ".venv",
   "language": "python",
   "name": "python3"
  },
  "language_info": {
   "codemirror_mode": {
    "name": "ipython",
    "version": 3
   },
   "file_extension": ".py",
   "mimetype": "text/x-python",
   "name": "python",
   "nbconvert_exporter": "python",
   "pygments_lexer": "ipython3",
   "version": "3.10.13"
  }
 },
 "nbformat": 4,
 "nbformat_minor": 2
}
