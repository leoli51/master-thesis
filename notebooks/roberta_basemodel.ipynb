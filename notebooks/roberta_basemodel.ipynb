{
 "cells": [
  {
   "cell_type": "code",
   "execution_count": 2,
   "metadata": {},
   "outputs": [],
   "source": [
    "import sys\n",
    "from os import path\n",
    "import os\n",
    "from dotenv import load_dotenv\n",
    "\n",
    "load_dotenv() \n",
    "sys.path.append(path.dirname(os.getcwd()))\n",
    "\n",
    "hf_token = os.environ[\"HUGGING_FACE_API_KEY\"]\n"
   ]
  },
  {
   "cell_type": "code",
   "execution_count": 2,
   "metadata": {},
   "outputs": [],
   "source": [
    "from transformers import RobertaForSequenceClassification, RobertaTokenizer, Trainer, TrainingArguments, EarlyStoppingCallback\n",
    "from sklearn.model_selection import train_test_split\n",
    "import torch\n",
    "import json\n",
    "\n",
    "import pandas as pd"
   ]
  },
  {
   "cell_type": "code",
   "execution_count": 3,
   "metadata": {},
   "outputs": [],
   "source": [
    "# Setting up the device for GPU usage\n",
    "from torch import cuda\n",
    "device = 'cuda' if cuda.is_available() else 'cpu'"
   ]
  },
  {
   "cell_type": "code",
   "execution_count": 5,
   "metadata": {},
   "outputs": [],
   "source": [
    "# Random state\n",
    "RANDOM_STATE = 42\n",
    "\n",
    "# Training arguments\n",
    "EPOCHS = 10\n",
    "MAX_INPUT_LENGTH = 512\n",
    "TRAIN_SET_SIZE = 0.75\n",
    "TRAINING_BATCH_SIZE = 8\n",
    "VALIDATION_BATCH_SIZE = 4\n",
    "VALIDATION_SET_SIZE = 0.3 # Of the remaining 1 - TRAIN_SET_SIZE"
   ]
  },
  {
   "cell_type": "code",
   "execution_count": 6,
   "metadata": {},
   "outputs": [],
   "source": [
    "# For training from a checkpoint\n",
    "OUTPUT_DIR = \"/home/leoli/Uni/Polimi/Thesis/master-thesis/models/roberta/2025-01-29 00:45:39\""
   ]
  },
  {
   "cell_type": "code",
   "execution_count": 37,
   "metadata": {},
   "outputs": [],
   "source": [
    "from datetime import datetime, timezone\n",
    "\n",
    "# Folder paths\n",
    "BASE_OUTPUT_DIR = \"../models/roberta\"\n",
    "os.makedirs(BASE_OUTPUT_DIR, exist_ok=True)\n",
    "RUN_ID = f\"{datetime.now(timezone.utc).strftime('%Y-%m-%d %H:%M:%S')}\"\n",
    "os.makedirs(f\"{BASE_OUTPUT_DIR}/{RUN_ID}\", exist_ok=True)\n",
    "OUTPUT_DIR = f\"{BASE_OUTPUT_DIR}/{RUN_ID}\"\n"
   ]
  },
  {
   "cell_type": "code",
   "execution_count": 7,
   "metadata": {},
   "outputs": [
    {
     "name": "stdout",
     "output_type": "stream",
     "text": [
      "Total instances: 2515, conspiracy instances: 897, non conspiracy instances: 1618\n",
      "train dataset size: 1886\n",
      "validation dataset size: 188\n",
      "test dataset size: 441\n"
     ]
    }
   ],
   "source": [
    "from project.models import YouTubeVideoInfo\n",
    "\n",
    "with open(\"../data/myyounicon-01/videos_infos.json\", \"r\") as json_file:\n",
    "    videos = [YouTubeVideoInfo.from_json(v) for v in json.load(json_file)]\n",
    "\n",
    "videos = sorted(videos, key=lambda v: v.id)\n",
    "video_ids = [v.id for v in videos]\n",
    "labels = pd.read_csv(\"../data/YouNiCon/conspiracy_label.csv\")\n",
    "labels = labels[labels[\"video_id\"].isin([v.id for v in videos])]\n",
    "labels[\"majority_label\"] = pd.to_numeric(labels[\"majority_label\"], errors=\"coerce\")\n",
    "labels = labels.set_index(\"video_id\").loc[video_ids, \"majority_label\"].tolist()\n",
    "\n",
    "conspiracy_videos = sum(labels)\n",
    "\n",
    "print(f\"Total instances: {len(labels)}, conspiracy instances: {conspiracy_videos}, non conspiracy instances: {len(labels)-conspiracy_videos}\")\n",
    "\n",
    "attributes = [\"channel_title\", \"title\", \"description\", \"categories\", \"tags\", \"subtitles\", \"auto_subtitles\", \"comments\"]\n",
    "attributes_settings = {\n",
    "    \"max_subtitles_length\": 1000, \n",
    "    \"include_comments_replies\": True,\n",
    "}\n",
    "\n",
    "videos_as_text = [v.to_string_for_model_input(attributes_to_include=attributes, **attributes_settings) for v in videos]\n",
    "\n",
    "train_videos, val_videos, train_labels, val_labels = train_test_split(\n",
    "    videos_as_text, labels, train_size=TRAIN_SET_SIZE, random_state=RANDOM_STATE\n",
    ")\n",
    "\n",
    "val_videos, test_videos, val_labels, test_labels = train_test_split(\n",
    "    val_videos, val_labels, train_size=VALIDATION_SET_SIZE, random_state=RANDOM_STATE\n",
    ")\n",
    "\n",
    "print(f\"train dataset size: {len(train_labels)}\")\n",
    "print(f\"validation dataset size: {len(val_labels)}\")\n",
    "print(f\"test dataset size: {len(test_labels)}\")"
   ]
  },
  {
   "cell_type": "code",
   "execution_count": 8,
   "metadata": {},
   "outputs": [],
   "source": [
    "tokenizer = RobertaTokenizer.from_pretrained(\"roberta-base\")\n",
    "\n",
    "def preprocess_data(texts, labels):\n",
    "    encodings = tokenizer(texts, truncation=True, padding=True, max_length=MAX_INPUT_LENGTH)\n",
    "    encodings['labels'] = labels\n",
    "    return encodings\n",
    "\n",
    "train_encodings = preprocess_data(train_videos, train_labels)\n",
    "val_encodings = preprocess_data(val_videos, val_labels)\n"
   ]
  },
  {
   "cell_type": "code",
   "execution_count": 9,
   "metadata": {},
   "outputs": [],
   "source": [
    "class BinaryClassificationDataset(torch.utils.data.Dataset):\n",
    "    def __init__(self, encodings):\n",
    "        self.encodings = encodings\n",
    "\n",
    "    def __len__(self):\n",
    "        return len(self.encodings['input_ids'])\n",
    "\n",
    "    def __getitem__(self, idx):\n",
    "        return {key: torch.tensor(val[idx]) for key, val in self.encodings.items()}\n",
    "\n",
    "train_dataset = BinaryClassificationDataset(train_encodings)\n",
    "val_dataset = BinaryClassificationDataset(val_encodings)"
   ]
  },
  {
   "cell_type": "code",
   "execution_count": 10,
   "metadata": {},
   "outputs": [
    {
     "name": "stderr",
     "output_type": "stream",
     "text": [
      "Some weights of RobertaForSequenceClassification were not initialized from the model checkpoint at roberta-base and are newly initialized: ['classifier.dense.bias', 'classifier.dense.weight', 'classifier.out_proj.bias', 'classifier.out_proj.weight']\n",
      "You should probably TRAIN this model on a down-stream task to be able to use it for predictions and inference.\n"
     ]
    }
   ],
   "source": [
    "model = RobertaForSequenceClassification.from_pretrained(\"roberta-base\", num_labels=2)"
   ]
  },
  {
   "cell_type": "code",
   "execution_count": 11,
   "metadata": {},
   "outputs": [],
   "source": [
    "training_args = TrainingArguments(\n",
    "    output_dir=OUTPUT_DIR,\n",
    "    eval_strategy=\"epoch\",\n",
    "    save_strategy=\"epoch\",\n",
    "    load_best_model_at_end=True,\n",
    "    metric_for_best_model=\"eval_loss\",\n",
    "    greater_is_better=False,\n",
    "    num_train_epochs=EPOCHS,\n",
    "    per_device_train_batch_size=TRAINING_BATCH_SIZE,\n",
    "    per_device_eval_batch_size=VALIDATION_BATCH_SIZE,\n",
    "    logging_dir=f\"{OUTPUT_DIR}/logs\",\n",
    "    logging_steps=10,\n",
    "    save_total_limit=2,  # Keep only the 2 most recent checkpoints\n",
    "    report_to=\"none\",\n",
    ")\n",
    "\n",
    "def compute_metrics(eval_pred):\n",
    "    from sklearn.metrics import accuracy_score, f1_score, recall_score, precision_score\n",
    "    logits, labels = eval_pred\n",
    "    predictions = torch.argmax(torch.tensor(logits), dim=1)\n",
    "    accuracy = accuracy_score(labels, predictions)\n",
    "    f1 = f1_score(labels, predictions)\n",
    "    precision = precision_score(labels, predictions)\n",
    "    recall = recall_score(labels, predictions)\n",
    "    return {\"accuracy\": accuracy, \"f1\": f1, \"precision\": precision, \"recall\": recall}\n",
    "\n",
    "early_stopping = EarlyStoppingCallback(early_stopping_patience=3)\n",
    "\n",
    "trainer = Trainer(\n",
    "    model=model,\n",
    "    args=training_args,\n",
    "    train_dataset=train_dataset,\n",
    "    eval_dataset=val_dataset,\n",
    "    compute_metrics=compute_metrics,\n",
    "    callbacks=[early_stopping],\n",
    ")"
   ]
  },
  {
   "cell_type": "code",
   "execution_count": null,
   "metadata": {},
   "outputs": [
    {
     "data": {
      "application/vnd.jupyter.widget-view+json": {
       "model_id": "729e9281008c4150b6bdeab1c1c5459b",
       "version_major": 2,
       "version_minor": 0
      },
      "text/plain": [
       "  0%|          | 0/2360 [00:00<?, ?it/s]"
      ]
     },
     "metadata": {},
     "output_type": "display_data"
    },
    {
     "name": "stdout",
     "output_type": "stream",
     "text": [
      "{'loss': 0.6968, 'grad_norm': 37.36332321166992, 'learning_rate': 4.978813559322034e-05, 'epoch': 0.04}\n",
      "{'loss': 0.5959, 'grad_norm': 19.72719955444336, 'learning_rate': 4.957627118644068e-05, 'epoch': 0.08}\n",
      "{'loss': 0.6505, 'grad_norm': 2.6474087238311768, 'learning_rate': 4.936440677966102e-05, 'epoch': 0.13}\n",
      "{'loss': 0.6643, 'grad_norm': 5.114778995513916, 'learning_rate': 4.915254237288136e-05, 'epoch': 0.17}\n",
      "{'loss': 0.6301, 'grad_norm': 2.3885669708251953, 'learning_rate': 4.89406779661017e-05, 'epoch': 0.21}\n",
      "{'loss': 0.731, 'grad_norm': 5.777268409729004, 'learning_rate': 4.8728813559322034e-05, 'epoch': 0.25}\n",
      "{'loss': 0.5892, 'grad_norm': 1.5416439771652222, 'learning_rate': 4.851694915254237e-05, 'epoch': 0.3}\n",
      "{'loss': 0.6701, 'grad_norm': 2.840379238128662, 'learning_rate': 4.8305084745762714e-05, 'epoch': 0.34}\n",
      "{'loss': 0.6042, 'grad_norm': 4.874413013458252, 'learning_rate': 4.809322033898305e-05, 'epoch': 0.38}\n",
      "{'loss': 0.5709, 'grad_norm': 16.4432373046875, 'learning_rate': 4.788135593220339e-05, 'epoch': 0.42}\n",
      "{'loss': 0.5716, 'grad_norm': 2.509087085723877, 'learning_rate': 4.766949152542373e-05, 'epoch': 0.47}\n",
      "{'loss': 0.537, 'grad_norm': 4.100446701049805, 'learning_rate': 4.745762711864407e-05, 'epoch': 0.51}\n",
      "{'loss': 0.4813, 'grad_norm': 3.8834919929504395, 'learning_rate': 4.724576271186441e-05, 'epoch': 0.55}\n",
      "{'loss': 0.5499, 'grad_norm': 5.733570575714111, 'learning_rate': 4.703389830508475e-05, 'epoch': 0.59}\n",
      "{'loss': 0.5833, 'grad_norm': 8.608728408813477, 'learning_rate': 4.682203389830508e-05, 'epoch': 0.64}\n",
      "{'loss': 0.6377, 'grad_norm': 11.438785552978516, 'learning_rate': 4.6610169491525425e-05, 'epoch': 0.68}\n",
      "{'loss': 0.6565, 'grad_norm': 14.210991859436035, 'learning_rate': 4.639830508474576e-05, 'epoch': 0.72}\n",
      "{'loss': 0.5422, 'grad_norm': 10.796314239501953, 'learning_rate': 4.6186440677966104e-05, 'epoch': 0.76}\n",
      "{'loss': 0.5831, 'grad_norm': 8.7621431350708, 'learning_rate': 4.597457627118644e-05, 'epoch': 0.81}\n",
      "{'loss': 0.4037, 'grad_norm': 12.53560733795166, 'learning_rate': 4.5762711864406784e-05, 'epoch': 0.85}\n",
      "{'loss': 0.5394, 'grad_norm': 7.3109354972839355, 'learning_rate': 4.555084745762712e-05, 'epoch': 0.89}\n",
      "{'loss': 0.5589, 'grad_norm': 16.602153778076172, 'learning_rate': 4.533898305084746e-05, 'epoch': 0.93}\n",
      "{'loss': 0.4425, 'grad_norm': 3.01281476020813, 'learning_rate': 4.51271186440678e-05, 'epoch': 0.97}\n"
     ]
    },
    {
     "data": {
      "application/vnd.jupyter.widget-view+json": {
       "model_id": "e85a6d9bddb04e72a942685db9ac5d1e",
       "version_major": 2,
       "version_minor": 0
      },
      "text/plain": [
       "  0%|          | 0/47 [00:00<?, ?it/s]"
      ]
     },
     "metadata": {},
     "output_type": "display_data"
    },
    {
     "name": "stdout",
     "output_type": "stream",
     "text": [
      "{'eval_loss': 0.6555712223052979, 'eval_accuracy': 0.7340425531914894, 'eval_f1': 0.6621621621621622, 'eval_precision': 0.6621621621621622, 'eval_recall': 0.6621621621621622, 'eval_runtime': 64.808, 'eval_samples_per_second': 2.901, 'eval_steps_per_second': 0.725, 'epoch': 1.0}\n"
     ]
    }
   ],
   "source": [
    "trainer.train()\n",
    "\n",
    "# Save the best model and tokenizer\n",
    "trainer.save_model(f\"{OUTPUT_DIR}/best_model\")"
   ]
  },
  {
   "cell_type": "markdown",
   "metadata": {},
   "source": [
    "## Train From Checkpoint"
   ]
  },
  {
   "cell_type": "code",
   "execution_count": null,
   "metadata": {},
   "outputs": [
    {
     "name": "stderr",
     "output_type": "stream",
     "text": [
      "/home/leoli/Uni/Polimi/Thesis/master-thesis/.venv/lib/python3.10/site-packages/transformers/trainer.py:3420: FutureWarning: You are using `torch.load` with `weights_only=False` (the current default value), which uses the default pickle module implicitly. It is possible to construct malicious pickle data which will execute arbitrary code during unpickling (See https://github.com/pytorch/pytorch/blob/main/SECURITY.md#untrusted-models for more details). In a future release, the default value for `weights_only` will be flipped to `True`. This limits the functions that could be executed during unpickling. Arbitrary objects will no longer be allowed to be loaded via this mode unless they are explicitly allowlisted by the user via `torch.serialization.add_safe_globals`. We recommend you start setting `weights_only=True` for any use case where you don't have full control of the loaded file. Please open an issue on GitHub for any issues related to this experimental feature.\n",
      "  torch.load(os.path.join(checkpoint, OPTIMIZER_NAME), map_location=map_location)\n"
     ]
    },
    {
     "data": {
      "application/vnd.jupyter.widget-view+json": {
       "model_id": "e533f8d1ca254b309356c118f9930331",
       "version_major": 2,
       "version_minor": 0
      },
      "text/plain": [
       "  0%|          | 0/2360 [00:00<?, ?it/s]"
      ]
     },
     "metadata": {},
     "output_type": "display_data"
    },
    {
     "name": "stderr",
     "output_type": "stream",
     "text": [
      "/home/leoli/Uni/Polimi/Thesis/master-thesis/.venv/lib/python3.10/site-packages/transformers/trainer.py:3083: FutureWarning: You are using `torch.load` with `weights_only=False` (the current default value), which uses the default pickle module implicitly. It is possible to construct malicious pickle data which will execute arbitrary code during unpickling (See https://github.com/pytorch/pytorch/blob/main/SECURITY.md#untrusted-models for more details). In a future release, the default value for `weights_only` will be flipped to `True`. This limits the functions that could be executed during unpickling. Arbitrary objects will no longer be allowed to be loaded via this mode unless they are explicitly allowlisted by the user via `torch.serialization.add_safe_globals`. We recommend you start setting `weights_only=True` for any use case where you don't have full control of the loaded file. Please open an issue on GitHub for any issues related to this experimental feature.\n",
      "  checkpoint_rng_state = torch.load(rng_file)\n"
     ]
    },
    {
     "name": "stdout",
     "output_type": "stream",
     "text": [
      "{'loss': 0.1413, 'grad_norm': 7.008457660675049, 'learning_rate': 4.491525423728814e-05, 'epoch': 1.02}\n",
      "{'loss': 0.3905, 'grad_norm': 16.55491828918457, 'learning_rate': 4.470338983050847e-05, 'epoch': 1.06}\n",
      "{'loss': 0.5022, 'grad_norm': 12.508938789367676, 'learning_rate': 4.4491525423728816e-05, 'epoch': 1.1}\n",
      "{'loss': 0.4238, 'grad_norm': 15.769083023071289, 'learning_rate': 4.427966101694915e-05, 'epoch': 1.14}\n",
      "{'loss': 0.2878, 'grad_norm': 2.8718972206115723, 'learning_rate': 4.4067796610169495e-05, 'epoch': 1.19}\n",
      "{'loss': 0.6175, 'grad_norm': 9.003098487854004, 'learning_rate': 4.385593220338983e-05, 'epoch': 1.23}\n",
      "{'loss': 0.5005, 'grad_norm': 9.979904174804688, 'learning_rate': 4.3644067796610175e-05, 'epoch': 1.27}\n",
      "{'loss': 0.2397, 'grad_norm': 17.84249496459961, 'learning_rate': 4.343220338983051e-05, 'epoch': 1.31}\n",
      "{'loss': 0.533, 'grad_norm': 18.96619415283203, 'learning_rate': 4.3220338983050854e-05, 'epoch': 1.36}\n",
      "{'loss': 0.4788, 'grad_norm': 4.204215049743652, 'learning_rate': 4.300847457627119e-05, 'epoch': 1.4}\n",
      "{'loss': 0.3636, 'grad_norm': 3.1090526580810547, 'learning_rate': 4.279661016949153e-05, 'epoch': 1.44}\n",
      "{'loss': 0.4261, 'grad_norm': 2.869701862335205, 'learning_rate': 4.258474576271186e-05, 'epoch': 1.48}\n",
      "{'loss': 0.5122, 'grad_norm': 4.4592461585998535, 'learning_rate': 4.2372881355932206e-05, 'epoch': 1.53}\n",
      "{'loss': 0.4848, 'grad_norm': 10.980192184448242, 'learning_rate': 4.216101694915254e-05, 'epoch': 1.57}\n",
      "{'loss': 0.3981, 'grad_norm': 2.1970889568328857, 'learning_rate': 4.1949152542372886e-05, 'epoch': 1.61}\n",
      "{'loss': 0.2973, 'grad_norm': 12.533841133117676, 'learning_rate': 4.173728813559322e-05, 'epoch': 1.65}\n",
      "{'loss': 0.6215, 'grad_norm': 9.026516914367676, 'learning_rate': 4.152542372881356e-05, 'epoch': 1.69}\n",
      "{'loss': 0.528, 'grad_norm': 10.199575424194336, 'learning_rate': 4.13135593220339e-05, 'epoch': 1.74}\n",
      "{'loss': 0.546, 'grad_norm': 6.857318878173828, 'learning_rate': 4.110169491525424e-05, 'epoch': 1.78}\n",
      "{'loss': 0.556, 'grad_norm': 6.78638219833374, 'learning_rate': 4.088983050847458e-05, 'epoch': 1.82}\n",
      "{'loss': 0.4519, 'grad_norm': 2.2677972316741943, 'learning_rate': 4.067796610169492e-05, 'epoch': 1.86}\n",
      "{'loss': 0.377, 'grad_norm': 16.11932945251465, 'learning_rate': 4.0466101694915254e-05, 'epoch': 1.91}\n",
      "{'loss': 0.7362, 'grad_norm': 2.8028476238250732, 'learning_rate': 4.025423728813559e-05, 'epoch': 1.95}\n",
      "{'loss': 0.6227, 'grad_norm': 6.6601033210754395, 'learning_rate': 4.004237288135593e-05, 'epoch': 1.99}\n"
     ]
    },
    {
     "data": {
      "application/vnd.jupyter.widget-view+json": {
       "model_id": "f9008692ff7a4574b38d092d82665331",
       "version_major": 2,
       "version_minor": 0
      },
      "text/plain": [
       "  0%|          | 0/47 [00:00<?, ?it/s]"
      ]
     },
     "metadata": {},
     "output_type": "display_data"
    },
    {
     "name": "stdout",
     "output_type": "stream",
     "text": [
      "{'eval_loss': 0.6093281507492065, 'eval_accuracy': 0.7074468085106383, 'eval_f1': 0.4329896907216495, 'eval_precision': 0.9130434782608695, 'eval_recall': 0.28378378378378377, 'eval_runtime': 64.0574, 'eval_samples_per_second': 2.935, 'eval_steps_per_second': 0.734, 'epoch': 2.0}\n"
     ]
    }
   ],
   "source": [
    "trainer.train(resume_from_checkpoint=\"/home/leoli/Uni/Polimi/Thesis/master-thesis/models/roberta/2025-01-29 00:45:39/checkpoint-236\")\n",
    "\n",
    "trainer.save_model(\"/home/leoli/Uni/Polimi/Thesis/master-thesis/models/roberta/2025-01-29 00:45:39/best_model\")"
   ]
  },
  {
   "cell_type": "markdown",
   "metadata": {},
   "source": [
    "## Evaluation"
   ]
  },
  {
   "cell_type": "code",
   "execution_count": null,
   "metadata": {},
   "outputs": [
    {
     "name": "stderr",
     "output_type": "stream",
     "text": [
      "Device set to use cpu\n",
      "100%|██████████| 441/441 [02:51<00:00,  2.57it/s]"
     ]
    },
    {
     "name": "stdout",
     "output_type": "stream",
     "text": [
      "TN\n",
      "FP\n",
      "FN\n",
      "TP\n",
      "225\t47\t62\t107\n"
     ]
    },
    {
     "name": "stderr",
     "output_type": "stream",
     "text": [
      "\n"
     ]
    }
   ],
   "source": [
    "from transformers import pipeline\n",
    "from sklearn.metrics import confusion_matrix\n",
    "from tqdm import tqdm\n",
    "\n",
    "MODEL_DIR = \"/home/leoli/Uni/Polimi/Thesis/master-thesis/models/roberta/2025-01-27 15:41:28/best_model\"\n",
    "\n",
    "best_model = RobertaForSequenceClassification.from_pretrained(MODEL_DIR)\n",
    "tokenizer = RobertaTokenizer.from_pretrained(\"roberta-base\")\n",
    "\n",
    "evaluation_pipeline = pipeline(\"text-classification\", model=best_model, tokenizer=tokenizer)\n",
    "\n",
    "predictions = []\n",
    "for video_text in tqdm(test_videos):\n",
    "    score = evaluation_pipeline(video_text, truncation=True, padding=True, max_length=MAX_INPUT_LENGTH)[0]\n",
    "    pred_label = 0 if score[\"label\"] == \"LABEL_0\" else 1\n",
    "    predictions.append(pred_label)\n",
    "\n",
    "tn, fp, fn, tp = confusion_matrix(test_labels, predictions).ravel()\n",
    "\n",
    "print(\"TN\\tFP\\tFN\\tTP\")\n",
    "print(f\"{tn}\\t{fp}\\t{fn}\\t{tp}\")"
   ]
  }
 ],
 "metadata": {
  "kernelspec": {
   "display_name": ".venv",
   "language": "python",
   "name": "python3"
  },
  "language_info": {
   "codemirror_mode": {
    "name": "ipython",
    "version": 3
   },
   "file_extension": ".py",
   "mimetype": "text/x-python",
   "name": "python",
   "nbconvert_exporter": "python",
   "pygments_lexer": "ipython3",
   "version": "3.10.13"
  }
 },
 "nbformat": 4,
 "nbformat_minor": 2
}
