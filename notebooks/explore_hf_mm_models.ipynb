{
 "cells": [
  {
   "cell_type": "code",
   "execution_count": 1,
   "metadata": {},
   "outputs": [],
   "source": [
    "import sys\n",
    "from os import path\n",
    "import os\n",
    "from dotenv import load_dotenv\n",
    "\n",
    "load_dotenv()\n",
    "sys.path.append(path.dirname(os.getcwd()))\n",
    "\n",
    "hf_token = os.environ[\"HUGGING_FACE_API_KEY\"]\n"
   ]
  },
  {
   "cell_type": "code",
   "execution_count": 2,
   "metadata": {},
   "outputs": [
    {
     "name": "stdout",
     "output_type": "stream",
     "text": [
      "Total instances: 2515, conspiracy instances: 897, non conspiracy instances: 1618\n"
     ]
    }
   ],
   "source": [
    "import json\n",
    "import pandas as pd\n",
    "from project.models import YouTubeVideoInfo\n",
    "\n",
    "with open(\"../data/myyounicon-01/videos_infos.json\", \"r\") as json_file:\n",
    "    videos = [YouTubeVideoInfo.from_json(v) for v in json.load(json_file)]\n",
    "\n",
    "labels = pd.read_csv(\"../data/YouNiCon/conspiracy_label.csv\")\n",
    "labels = labels[labels[\"video_id\"].isin([v.id for v in videos])]\n",
    "conspiracy_videos = labels[labels[\"majority_label\"] == 1] \n",
    "non_conspiracy_videos = labels[labels[\"majority_label\"] == 0] \n",
    "\n",
    "print(f\"Total instances: {len(labels)}, conspiracy instances: {len(conspiracy_videos)}, non conspiracy instances: {len(non_conspiracy_videos)}\")"
   ]
  },
  {
   "cell_type": "code",
   "execution_count": 3,
   "metadata": {},
   "outputs": [
    {
     "name": "stdout",
     "output_type": "stream",
     "text": [
      "**channel_title**: Messianic Torah Follower of yeshua HaMashiach\n",
      "\n",
      "**title**: Protect Yourself From Fake Cell Towers, Silent SMS, & Stingrays 2018 Cell Spy Catcher Anti Spy Andro\n",
      "\n",
      "**description**: Cell Spy Catcher (Anti Spy) https://play.google.com/store/apps/details?id=com.skibapps.cellspycatcher&hl=en_US \n",
      " How stingrays work https://youtu.be/wzSgLpNrr2E\n",
      "#1 Check out http://ChristianitatisCuria.com !\n",
      "#2 How to Build and License Your own Motorized Bicycle http://HowToBuildAMoped.com/\n",
      "BUY PARTS http://www.bikeberry.com?acc=8ce241e1ed84937ee48322b170b9b18c\n",
      "#3 Get Protection In Court After You Defend Yourself and Others https://tracking.deltadefense.com/SH1xX\n",
      "#4 How to Win in Court https://www.howtowinincourt.com?refercode=BJ0089\n",
      "#5 How To Get more Subscribers On YouTube Fast Hack https://youtube-promos.com/unboxing_authority\n",
      "#6 How to Be 100% Anonymous Online https://billing.purevpn.com/aff.php?aff=33638 https://www.youtube.com/watch?v=T5Ef1mi4gx4 & Complete Tutorial https://www.youtube.com/watch?v=V7nM11QwPJk \n",
      "#7 Motorized Bicycle Playlist https://www.youtube.com/playlist?list=PLYcXN4at-gENl9_DOBXttvDMe6FyE2lEX&disable_polymer=true\n",
      "#8 PureVPN: https://billing.purevpn.com/aff.php?aff=33638\n",
      "Find out more about PureVPN https://youtu.be/T5Ef1mi4gx4\n",
      "#9 Please Follow Me On Facebook: https://www.facebook.com/pg/justinsproductreviews/posts/\n",
      "#10 E-BAY: https://rover.ebay.com/rover/1/711-53200-19255-0/1?mpre=https%3A%2F%2Fepn.ebay.com%2F&campid=5338240109&toolid=20008\n",
      "#11 Join Straight Talk & enroll in Rewards using referral code (EFAA-7B0D) to earn 1,000 bonus points! https://www.refer-rewards.com/l/207236\n",
      "#12 Get A T-Shirt https://www.zazzle.com/the_unboxing_authority_t_shirt-235605015973361338\n",
      "#13 PayPal https://www.paypal.me/JustUseLinux\n",
      "#14 Patreon https://www.patreon.com/user?u=2970455 \n",
      "#15 http://justuselinux.com \n",
      "#16 http://www.mindblowingidea.com\n",
      "\n",
      "If you want to see more videos, please donate via #Patreon.\n",
      "\n",
      "\n",
      "\n",
      "Send items to review, \n",
      "http://www.mindblowingidea.com/ProductReviews.html\n",
      "\n",
      "Get to know Jesus: https://peacewithgod.net/ \n",
      "http://www.ontheroadtojesus.com/\n",
      "Steemit https://steemit.com/@dailyvideos/\n",
      "Channel http://www.youtube.com/user/usacomputertec\n",
      "My Blog: https://justinsproductreviews.blogspot.com/\n",
      "About Me http://about.me/justin.breithaupt \n",
      "MINDS https://www.minds.com/JustUseLinux\n",
      "Twitter https://twitter.com/justins_reviews\n",
      "MeWe https://mewe.com/i/justin.breithaupt\n",
      "Famebit https://famebit.com/a/DailyVideos1  \n",
      "ELLO https://ello.co/warfortruth\n",
      "TUMBLR http://usacomputertec.tumblr.com/\n",
      "FACEBOOK REVIEWS: https://www.facebook.com/pg/justinsproductreviews/posts/\n",
      "WorldTruth http://www.worldtruth.mx/justuselinux/\n",
      "Tomoson: https://www.tomoson.com/person/justin-breithaupt\n",
      "Linkedin: https://www.linkedin.com/in/justin-breithaupt-80754577\n",
      "Instigram: https://www.instagram.com/usacomputertec/\n",
      "Pinterest: https://www.pinterest.com/pomeroylab/\n",
      "Klout https://klout.com/#/usacomputertec\n",
      "Stats https://socialblade.com/youtube/user/usacomputertec\n",
      "VK https://vk.com/id409956948\n",
      "http://www.justuselinux.com \n",
      "http://www.mindblowingidea.com\n",
      "\n",
      "LEGAL NOTICE TO YOUTUBE, FACEBOOK, AND ALL VIEWERS: the creator’s intent is to inform, educate, or entertain (not offend or shock). Incorporated by reference as though being stated fully herein https://youtu.be/GMVGHpNGBBM NOTICE TO THE PRINCIPLE IS NOTICE TO THE AGENT, NOTICE TO ANY AGENT IS NOTICE TO THE PRINCIPLE. ERRORS AND OMISSIONS ARE CONSISTENT WITH INTENT. ALL RIGHTS RESERVED AND NONE WAIVED.\n",
      "\n",
      "International Slavery laws and treaties, say that I must be compensated for any work done. My videos must be Monetized. Title 18 U.S. Code Chapter 77 § 1593A https://www.law.cornell.edu/uscode/text/18/1593A\n",
      "\n",
      "Some audio used in my videos comes from http://www.teknoaxe.com with permission to use their content in commercial and non-commercial videos.\n",
      "\n",
      "#Security #StingrayII #Stingray2 #FakeCellTowers #CellTowers #Cellphone #CellPhone #AIMSCID #IMSI #Catcher #IMSICatcher #Detector #Intrusion #Privacy #Tracking #Illegal #FDroid #Android #SilentSMS #LAC #CellIDConsistency #SilentAppInstallations #SignalStrength #FemtoCells #GSM #UMTSWCDMA #CDMA #LTE #Verizon #AT&T #straighttalkwireless #TMobile #Sprint #GPSLocation #OpenCellId #SIMCard  https://youtu.be/-K9TdiQPmX4\n",
      "\n",
      "**tags**: ['Security', 'StingrayII', 'Stingray II', 'Stingray 2', 'Fake Cell Towers', 'Cell Towers', 'Cellphone', 'Cell Phone', 'AIMSCID', 'IMSI', 'Catcher', 'IMSI Catcher', 'Detector', 'Intrusion', 'Privacy', 'Tracking', 'Illegal', 'F-Droid', 'Android', 'Silent SMS', 'LAC', 'Cell ID Consistency', 'Silent App Installations', 'Signal Strength', 'FemtoCells', 'GSM', 'UMTS/WCDMA', 'CDMA', 'LTE', 'Verizon', 'AT&T', 'straight talk wireless', 'T-Mobile', 'Sprint', 'GPS Location', 'OpenCellId', 'SIM Card']\n",
      "\n",
      "**auto_subtitles**: \n",
      "alright ladies and gentlemen so I have a\n",
      "popular video on YouTube that's like the\n",
      "is mi spy catcher for stingray cellphone\n",
      "towers and all that great stuff and that\n",
      "was a great app he used to be out there\n",
      "but unfortunately that app is no longer\n",
      "available on the F droid store anywhere\n",
      "else after it is a great place to go\n",
      "this self spy catcher seems to be only\n",
      "available through the Google Play Store\n",
      "as far as I can tell might be available\n",
      "through other sources I don't know\n",
      "myself spy catcher it's it's similar to\n",
      "the old app but I'm mainly doing this\n",
      "video because people just keep\n",
      "commenting likely the absent longer\n",
      "available apps no longer available\n",
      "absolutely available this app is at\n",
      "least right now in 2018 it's August in\n",
      "18 this apps available so normally I\n",
      "only trust apps from the f-droid store\n",
      "but there's like a another app on the\n",
      "f-droid store I think it's open spy or\n",
      "something or spy snoop and it doesn't\n",
      "work with my phone because it doesn't\n",
      "have whatever it requires so this one\n",
      "do\n",
      "\n",
      "**comments**:\n",
      "\t@dog0311: It must of worked or they wouldn't of taken it down everywhere. Any other apps out there that can alert you when your cell signal has a rapid change?\n",
      "\t\treplies:\n",
      "\t\t\t@dog0311: I'm asking for a friend of course.\n",
      "\t@johnnylego807: I know this is an old vid, but you are brilliant brother!! Given me a lot of ideas. Tired of being harassed for literally no apparent reason. Atleast that’s what I suspect?\n",
      "\t\treplies:\n",
      "\t\t\t@dog0311: So have you created us a new app?\n",
      "\t@wadethoms650: Always had an idea about surveillance technology like the stingrays and such, I just didn't know the name to them till just now\n",
      "\t\treplies:\n",
      "\t\t\t@dog0311: I missed that in the video, but I'm sure by now they can clone a tower as easy as my ex cloned my phone, tablets and  PC's with vmware.\n",
      "\t@wheelieblind: I have an iphone is there anything good I can use for that?\n",
      "\t\treplies:\n",
      "\t\t\t@MBOFOYH: As far as I know, the only thing that prevents tracking an iphone is an RFID bag, but don't try the following other methods: running it over with a combine, smashing it with a hammer like Killery Clinton, explosives, or shooting it. Boiling it in water might work too ;)\n",
      "\t\t\t@dog0311: A Samsung\n",
      "\t@flexibledreamer7846: This is sick I’m dealing with a crazy stalker who is a tech nerd and works for the government.... this person has deleted my texts, photos, and is in my emails no matter how many time\\nI change my password!! How do you bring these criminal to justice?? This is so dangerous for victims of domestic violence!!!\n",
      "\t\treplies:\n",
      "\t\t\t@MBOFOYH: If you are sane, I have found the only thing that stops a stalker, is when you bear arms. If a restraining order doesn't work, or anything else, sometimes getting a gun is the only thing that keeps them away. I notified the sheriff that I gave my x-wife a gun, and the rapist finally quit following us everywhere we went. She shouldn't have a gun, but that was a lesson learned later.\n",
      "\t\t\t@flexibledreamer7846: The Unboxing Authority I’m sane... no paranoia or psychosis here. But a gun only works for physical attacks... what do you do for cyber attacks?\n",
      "\t\t\t@MBOFOYH: :) I Just Use Linux http://www.JustUseLinux.com and most of the time I'm off line. Also I don't use the facebook app, messenger app, or any apps like that. I use free alternatives. You can look up open source android apps on my YouTube channel. There should be an Open Source VS Android apps video. https://youtu.be/z04rUJqrBMM  \\n\\nYou can also remove google voice and other \"features\". https://www.youtube.com/watch?v=daRoKoRyMag \\nAnd remove Google Search Bar https://www.youtube.com/watch?v=K9j4cEGxCoU \\n\\nGoogle Assistant, Alexa, and all kinds of spyware. https://www.youtube.com/watch?v=xHG31-3R7io\n",
      "\t\t\t@dog0311: We must of dated the same woman, it's amazing how much information women get from guys who just want to f*ck them and will do anything they want to help them with their lieing little story on how, \"their ex needs to be watched because he 's stalking her\" SMH. They can get more information in one night on social media then I can research in one year (and by then it's out dated).  My ex was so messed up she used geofences to let her know I was almost to her house, and then she had a whole android phone that had a backend buried under her android that I could see. Nothing she did effected the bottom android layer, that was protecting everything you would see or hear from her phone. Never did figure out how she did it, but her tmobile sales rep was the brains behind it all.\n",
      "\n",
      "**subtitles**: (not available)\n"
     ]
    }
   ],
   "source": [
    "print(videos[1].to_string_for_model_input([\"channel_title\", \"title\", \"description\", \"tags\", \"auto_subtitles\", \"comments\", \"subtitles\"], -1, 1000, 5, True))"
   ]
  },
  {
   "cell_type": "markdown",
   "metadata": {},
   "source": [
    "## Multimodal Models"
   ]
  },
  {
   "cell_type": "code",
   "execution_count": 3,
   "metadata": {},
   "outputs": [],
   "source": [
    "import base64\n",
    "\n",
    "def load_image_data_in_chat_format(video_id: str, image_filename_format: str):\n",
    "    image_path = f\"/home/leoli/Uni/Polimi/Thesis/master-thesis/data/myyounicon-01/images/{image_filename_format}\".format(video_id)\n",
    "    print(image_path)\n",
    "    with open(image_path, \"rb\") as f:\n",
    "        return {\"type\": \"image_url\", \"image_url\": {\"url\": f\"data:image/jpeg;base64,{base64.b64encode(f.read()).decode('utf-8')}\"}}\n",
    "\n"
   ]
  },
  {
   "cell_type": "code",
   "execution_count": 6,
   "metadata": {},
   "outputs": [
    {
     "name": "stdout",
     "output_type": "stream",
     "text": [
      "Processing video 1/2515 id: -8u-hsE87xw ⚙️\n",
      "/home/leoli/Uni/Polimi/Thesis/master-thesis/data/myyounicon-01/images/-8u-hsE87xw_thumbnail.jpg\n"
     ]
    }
   ],
   "source": [
    "from huggingface_hub import InferenceClient\n",
    "from project.llm_models import prompts\n",
    "from project.experiments.models import Experiment\n",
    "from datetime import datetime, timezone\n",
    "import time\n",
    "\n",
    "\n",
    "hf = InferenceClient(token=hf_token)\n",
    "\n",
    "description = \"Simple prompt and images to multimodal llama 3.2 11B model. The model accepts only one image per input so we provide the thumbnail. The model has a context window of 128k but the inferece api limits the input tokens to 4096, thus we truncate the max comments number to 5 to avoid exceeding the limit.\"\n",
    "experiment_id = str(round(time.time()))\n",
    "start_time = datetime.now(timezone.utc)\n",
    "\n",
    "models = [\"meta-llama/Llama-3.2-11B-Vision-Instruct\"]\n",
    "system_roles = [\"system\"]\n",
    "system_prompt =  prompts.tiktok_paper_simple_prompt_with_images()\n",
    "attributes = [\"channel_title\", \"title\", \"description\", \"categories\", \"tags\", \"subtitles\", \"auto_subtitles\", \"comments\"]\n",
    "attributes_settings = {\n",
    "    \"max_description_length\": -1,\n",
    "    \"max_subtitles_length\": 1000, \n",
    "    \"max_comments\": 5,\n",
    "    \"include_comments_replies\": True,\n",
    "}\n",
    "image_filename_format = \"{}_thumbnail.jpg\"\n",
    "\n",
    "completions_by_model = {}\n",
    "\n",
    "for model, system_role in zip(models, system_roles):\n",
    "    completions_by_model[model] = {}\n",
    "    for i, video in enumerate(videos[:1]):\n",
    "        print(f\"Processing video {i + 1}/{len(videos)} id: {video.id} ⚙️\")\n",
    "\n",
    "        user_prompt = video.to_string_for_model_input(attributes_to_include=attributes, **attributes_settings)\n",
    "\n",
    "        messages = [\n",
    "            {\n",
    "                \"role\": system_role,\n",
    "                \"content\": system_prompt,\n",
    "            },\n",
    "            {\n",
    "                \"role\": \"user\",\n",
    "                \"content\": [\n",
    "                    {\"type\": \"text\", \"text\" : user_prompt},\n",
    "                    load_image_data_in_chat_format(video.id, image_filename_format),\n",
    "                ]\n",
    "            },\n",
    "        ]\n",
    "        try:\n",
    "            completion = hf.chat.completions.create(\n",
    "                model=model, \n",
    "                messages=messages, \n",
    "            )\n",
    "        except Exception as exception:\n",
    "            completion = str(exception)\n",
    "            print(completion)\n",
    "            \n",
    "        completions_by_model[model][video.id] = completion\n",
    "\n",
    "end_time = datetime.now(timezone.utc)\n"
   ]
  },
  {
   "cell_type": "code",
   "execution_count": 7,
   "metadata": {},
   "outputs": [
    {
     "name": "stdout",
     "output_type": "stream",
     "text": [
      "{'meta-llama/Llama-3.2-11B-Vision-Instruct': {'-8u-hsE87xw': ChatCompletionOutput(choices=[ChatCompletionOutputComplete(finish_reason='stop', index=0, message=ChatCompletionOutputMessage(role='assistant', content='1', tool_calls=None), logprobs=None)], created=1734537888, id='', model='meta-llama/Llama-3.2-11B-Vision-Instruct', system_fingerprint='2.4.1-sha-d2ed52f', usage=ChatCompletionOutputUsage(completion_tokens=2, prompt_tokens=1938, total_tokens=1940))}}\n"
     ]
    }
   ],
   "source": [
    "print(completions_by_model)"
   ]
  },
  {
   "cell_type": "code",
   "execution_count": 5,
   "metadata": {},
   "outputs": [],
   "source": [
    "import json\n",
    "from project.utils.json_utils import EnhancedJSONEncoder\n",
    "from project.experiments.models import Experiment\n",
    "\n",
    "experiment = Experiment.from_completions(\n",
    "    attributes_settings=attributes_settings,\n",
    "    attributes=attributes,\n",
    "    completions_by_model=completions_by_model,\n",
    "    description=description,\n",
    "    end_time=end_time,\n",
    "    id=experiment_id,\n",
    "    image_filename_format=image_filename_format,\n",
    "    models=models,\n",
    "    start_time=start_time,\n",
    "    system_prompt=system_prompt,\n",
    ")\n",
    "\n",
    "with open(f\"experiment-{experiment_id}.json\", \"w\") as f:\n",
    "    json.dump(experiment, f, cls=EnhancedJSONEncoder)\n",
    "\n",
    "    "
   ]
  },
  {
   "cell_type": "code",
   "execution_count": null,
   "metadata": {},
   "outputs": [],
   "source": [
    "# TMP: read predicted labels\n",
    "import json\n",
    "\n",
    "with open(f\"{model.replace(\"/\", \"-\")}-predicted_labels.json\", \"r\") as f:\n",
    "    predicted_labels_dic = json.load(f)"
   ]
  },
  {
   "cell_type": "code",
   "execution_count": 9,
   "metadata": {},
   "outputs": [
    {
     "data": {
      "image/png": "[encoded data removed]",
      "text/plain": [
       "<Figure size 640x480 with 2 Axes>"
      ]
     },
     "metadata": {},
     "output_type": "display_data"
    },
    {
     "name": "stdout",
     "output_type": "stream",
     "text": [
      "              precision    recall  f1-score   support\n",
      "\n",
      "           0       0.87      0.68      0.76      1618\n",
      "           1       0.59      0.82      0.68       897\n",
      "\n",
      "    accuracy                           0.73      2515\n",
      "   macro avg       0.73      0.75      0.72      2515\n",
      "weighted avg       0.77      0.73      0.73      2515\n",
      "\n"
     ]
    }
   ],
   "source": [
    "import matplotlib.pyplot as plt\n",
    "from sklearn.metrics import confusion_matrix, ConfusionMatrixDisplay, classification_report\n",
    "\n",
    "video_ids = sorted([video.id for video in videos])\n",
    "true_labels = labels.set_index(\"video_id\").loc[video_ids, \"majority_label\"].tolist()\n",
    "predicted_labels = [predicted_labels_dic[id] for id in video_ids]\n",
    "\n",
    "conf_matrix = confusion_matrix(true_labels, predicted_labels)\n",
    "\n",
    "disp = ConfusionMatrixDisplay(confusion_matrix=conf_matrix, display_labels=[\"0\", \"1\"])\n",
    "disp.plot(cmap='Blues', values_format='d')\n",
    "\n",
    "plt.title(\"Confusion Matrix\")\n",
    "plt.show()\n",
    "\n",
    "print(classification_report(true_labels, predicted_labels))"
   ]
  },
  {
   "cell_type": "markdown",
   "metadata": {},
   "source": [
    "## Multimodal Models"
   ]
  }
 ],
 "metadata": {
  "kernelspec": {
   "display_name": ".venv",
   "language": "python",
   "name": "python3"
  },
  "language_info": {
   "codemirror_mode": {
    "name": "ipython",
    "version": 3
   },
   "file_extension": ".py",
   "mimetype": "text/x-python",
   "name": "python",
   "nbconvert_exporter": "python",
   "pygments_lexer": "ipython3",
   "version": "3.10.13"
  }
 },
 "nbformat": 4,
 "nbformat_minor": 2
}
