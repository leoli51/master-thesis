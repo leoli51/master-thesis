{
 "cells": [
  {
   "cell_type": "markdown",
   "metadata": {},
   "source": []
  },
  {
   "cell_type": "code",
   "execution_count": 1,
   "metadata": {},
   "outputs": [],
   "source": [
    "import os\n",
    "import sys\n",
    "from os import path\n",
    "\n",
    "sys.path.append(path.dirname(os.getcwd()))"
   ]
  },
  {
   "cell_type": "markdown",
   "metadata": {},
   "source": [
    "# MyYouNICon"
   ]
  },
  {
   "cell_type": "code",
   "execution_count": 2,
   "metadata": {},
   "outputs": [
    {
     "name": "stdout",
     "output_type": "stream",
     "text": [
      "Total instances: 2515, conspiracy instances: 897, non conspiracy instances: 1618\n"
     ]
    }
   ],
   "source": [
    "import json\n",
    "\n",
    "import pandas as pd\n",
    "\n",
    "from project.models import YouTubeVideoInfo\n",
    "\n",
    "with open(\"../data/myyounicon-01/videos_infos.json\", \"r\") as json_file:\n",
    "\tvideos = [YouTubeVideoInfo.from_json(v) for v in json.load(json_file)]\n",
    "\n",
    "labels = pd.read_csv(\"../data/YouNiCon/conspiracy_label.csv\")\n",
    "labels = labels[labels[\"video_id\"].isin([v.id for v in videos])]\n",
    "conspiracy_videos = labels[labels[\"majority_label\"] == 1]\n",
    "non_conspiracy_videos = labels[labels[\"majority_label\"] == 0]\n",
    "\n",
    "print(\n",
    "\tf\"Total instances: {len(labels)}, conspiracy instances: {len(conspiracy_videos)}, non conspiracy instances: {len(non_conspiracy_videos)}\"\n",
    ")"
   ]
  },
  {
   "cell_type": "code",
   "execution_count": 3,
   "metadata": {},
   "outputs": [
    {
     "data": {
      "text/plain": [
       "678"
      ]
     },
     "execution_count": 3,
     "metadata": {},
     "output_type": "execute_result"
    }
   ],
   "source": [
    "len({video.channel_id for video in videos})"
   ]
  }
 ],
 "metadata": {
  "kernelspec": {
   "display_name": ".venv",
   "language": "python",
   "name": "python3"
  },
  "language_info": {
   "codemirror_mode": {
    "name": "ipython",
    "version": 3
   },
   "file_extension": ".py",
   "mimetype": "text/x-python",
   "name": "python",
   "nbconvert_exporter": "python",
   "pygments_lexer": "ipython3",
   "version": "3.10.13"
  }
 },
 "nbformat": 4,
 "nbformat_minor": 2
}
