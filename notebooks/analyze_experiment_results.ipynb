{
 "cells": [
  {
   "cell_type": "code",
   "execution_count": 2,
   "metadata": {},
   "outputs": [],
   "source": [
    "import sys\n",
    "from os import path\n",
    "import os\n",
    "from dotenv import load_dotenv\n",
    "\n",
    "load_dotenv()\n",
    "sys.path.append(path.dirname(os.getcwd()))"
   ]
  },
  {
   "cell_type": "markdown",
   "metadata": {},
   "source": [
    "# Analyze Experiments Result\n",
    "\n",
    "What do we want to extract from the data?"
   ]
  },
  {
   "cell_type": "code",
   "execution_count": 18,
   "metadata": {},
   "outputs": [
    {
     "name": "stdout",
     "output_type": "stream",
     "text": [
      "         video_id  majority_label\n",
      "0     -3pY4UfY-Mw            True\n",
      "2     -8u-hsE87xw            True\n",
      "3     -9StG9sV4zk            True\n",
      "4     -K9TdiQPmX4            True\n",
      "5     -Ph_dpS7uy0            True\n",
      "...           ...             ...\n",
      "3155  zt5z02_7ME4           False\n",
      "3157  zuhZpUX_f_A           False\n",
      "3158  zwx5NGuu2aQ           False\n",
      "3159  zzDZVChMM7I           False\n",
      "3160  zzqJ1F8n_kU            True\n",
      "\n",
      "[2515 rows x 2 columns]\n"
     ]
    }
   ],
   "source": [
    "from project.experiments.models import Experiment\n",
    "import pandas as pd\n",
    "import json\n",
    "\n",
    "experiment_file_name = \"/home/leoli/Uni/Polimi/Thesis/master-thesis/notebooks/experiment-1733312932.json\"\n",
    "\n",
    "with open(experiment_file_name, \"r\") as f:\n",
    "    experiment_json = json.load(f)\n",
    "\n",
    "experiment = Experiment(**experiment_json)\n",
    "\n",
    "video_ids = sorted(list(experiment.predicted_labels_by_model_and_video_id[experiment.models[0]].keys()))\n",
    "true_labels = pd.read_csv(\"../data/YouNiCon/conspiracy_label.csv\")\n",
    "true_labels = true_labels[true_labels[\"video_id\"].isin(video_ids)]\n",
    "true_labels[\"majority_label\"] = true_labels[\"majority_label\"].astype(bool)\n",
    "conspiracy_videos = true_labels[true_labels[\"majority_label\"] == 1] \n",
    "non_conspiracy_videos = true_labels[true_labels[\"majority_label\"] == 0] \n",
    "\n",
    "print(true_labels)"
   ]
  },
  {
   "cell_type": "code",
   "execution_count": 6,
   "metadata": {},
   "outputs": [
    {
     "name": "stdout",
     "output_type": "stream",
     "text": [
      "2515\n"
     ]
    }
   ],
   "source": [
    "print(len(experiment.predicted_labels_by_model_and_video_id[experiment.models[0]]))"
   ]
  },
  {
   "cell_type": "code",
   "execution_count": 23,
   "metadata": {},
   "outputs": [
    {
     "name": "stdout",
     "output_type": "stream",
     "text": [
      "0        True\n",
      "2        True\n",
      "3        True\n",
      "4        True\n",
      "5        True\n",
      "        ...  \n",
      "3155    False\n",
      "3157    False\n",
      "3158    False\n",
      "3159    False\n",
      "3160     True\n",
      "Name: majority_label, Length: 2512, dtype: bool\n"
     ]
    },
    {
     "ename": "ValueError",
     "evalue": "At least one label specified must be in y_true",
     "output_type": "error",
     "traceback": [
      "\u001b[0;31m---------------------------------------------------------------------------\u001b[0m",
      "\u001b[0;31mValueError\u001b[0m                                Traceback (most recent call last)",
      "Cell \u001b[0;32mIn[23], line 27\u001b[0m\n\u001b[1;32m     23\u001b[0m true_labels_for_model \u001b[38;5;241m=\u001b[39m (true_labels[true_labels[\u001b[38;5;124m\"\u001b[39m\u001b[38;5;124mvideo_id\u001b[39m\u001b[38;5;124m\"\u001b[39m]\u001b[38;5;241m.\u001b[39misin(video_ids_by_model[model])])[\u001b[38;5;124m\"\u001b[39m\u001b[38;5;124mmajority_label\u001b[39m\u001b[38;5;124m\"\u001b[39m]\n\u001b[1;32m     25\u001b[0m \u001b[38;5;28mprint\u001b[39m(true_labels_for_model)\n\u001b[0;32m---> 27\u001b[0m conf_matrix, report \u001b[38;5;241m=\u001b[39m \u001b[43mgenerate_confusion_matrix_and_report\u001b[49m\u001b[43m(\u001b[49m\u001b[43mtrue_labels_for_model\u001b[49m\u001b[43m,\u001b[49m\u001b[43m \u001b[49m\u001b[43mpredicted_labels\u001b[49m\u001b[43m)\u001b[49m\n\u001b[1;32m     29\u001b[0m \u001b[38;5;28mprint\u001b[39m(model)\n\u001b[1;32m     30\u001b[0m \u001b[38;5;28mprint\u001b[39m(\u001b[38;5;124m\"\u001b[39m\u001b[38;5;124mFailed video:\u001b[39m\u001b[38;5;124m\"\u001b[39m, \u001b[38;5;28mlen\u001b[39m(failed_video_ids_by_model[model]))\n",
      "Cell \u001b[0;32mIn[23], line 7\u001b[0m, in \u001b[0;36mgenerate_confusion_matrix_and_report\u001b[0;34m(true_labels, predicted_labels)\u001b[0m\n\u001b[1;32m      5\u001b[0m \u001b[38;5;28;01mdef\u001b[39;00m \u001b[38;5;21mgenerate_confusion_matrix_and_report\u001b[39m(true_labels: \u001b[38;5;28mlist\u001b[39m[\u001b[38;5;28mbool\u001b[39m], predicted_labels: \u001b[38;5;28mlist\u001b[39m[\u001b[38;5;28mbool\u001b[39m]):\n\u001b[1;32m      6\u001b[0m     labels \u001b[38;5;241m=\u001b[39m [\u001b[38;5;124m\"\u001b[39m\u001b[38;5;124mnon-conspiracy\u001b[39m\u001b[38;5;124m\"\u001b[39m,\u001b[38;5;124m\"\u001b[39m\u001b[38;5;124mconspiracy\u001b[39m\u001b[38;5;124m\"\u001b[39m]\n\u001b[0;32m----> 7\u001b[0m     conf_matrix \u001b[38;5;241m=\u001b[39m \u001b[43mconfusion_matrix\u001b[49m\u001b[43m(\u001b[49m\u001b[43mtrue_labels\u001b[49m\u001b[43m,\u001b[49m\u001b[43m \u001b[49m\u001b[43mpredicted_labels\u001b[49m\u001b[43m,\u001b[49m\u001b[43m \u001b[49m\u001b[43mlabels\u001b[49m\u001b[38;5;241;43m=\u001b[39;49m\u001b[43mlabels\u001b[49m\u001b[43m)\u001b[49m\n\u001b[1;32m      8\u001b[0m     report \u001b[38;5;241m=\u001b[39m classification_report(true_labels, predicted_labels, labels\u001b[38;5;241m=\u001b[39mlabels)\n\u001b[1;32m     10\u001b[0m     \u001b[38;5;28;01mreturn\u001b[39;00m conf_matrix, report\n",
      "File \u001b[0;32m~/Uni/Polimi/Thesis/master-thesis/.venv/lib/python3.10/site-packages/sklearn/utils/_param_validation.py:213\u001b[0m, in \u001b[0;36mvalidate_params.<locals>.decorator.<locals>.wrapper\u001b[0;34m(*args, **kwargs)\u001b[0m\n\u001b[1;32m    207\u001b[0m \u001b[38;5;28;01mtry\u001b[39;00m:\n\u001b[1;32m    208\u001b[0m     \u001b[38;5;28;01mwith\u001b[39;00m config_context(\n\u001b[1;32m    209\u001b[0m         skip_parameter_validation\u001b[38;5;241m=\u001b[39m(\n\u001b[1;32m    210\u001b[0m             prefer_skip_nested_validation \u001b[38;5;129;01mor\u001b[39;00m global_skip_validation\n\u001b[1;32m    211\u001b[0m         )\n\u001b[1;32m    212\u001b[0m     ):\n\u001b[0;32m--> 213\u001b[0m         \u001b[38;5;28;01mreturn\u001b[39;00m \u001b[43mfunc\u001b[49m\u001b[43m(\u001b[49m\u001b[38;5;241;43m*\u001b[39;49m\u001b[43margs\u001b[49m\u001b[43m,\u001b[49m\u001b[43m \u001b[49m\u001b[38;5;241;43m*\u001b[39;49m\u001b[38;5;241;43m*\u001b[39;49m\u001b[43mkwargs\u001b[49m\u001b[43m)\u001b[49m\n\u001b[1;32m    214\u001b[0m \u001b[38;5;28;01mexcept\u001b[39;00m InvalidParameterError \u001b[38;5;28;01mas\u001b[39;00m e:\n\u001b[1;32m    215\u001b[0m     \u001b[38;5;66;03m# When the function is just a wrapper around an estimator, we allow\u001b[39;00m\n\u001b[1;32m    216\u001b[0m     \u001b[38;5;66;03m# the function to delegate validation to the estimator, but we replace\u001b[39;00m\n\u001b[1;32m    217\u001b[0m     \u001b[38;5;66;03m# the name of the estimator by the name of the function in the error\u001b[39;00m\n\u001b[1;32m    218\u001b[0m     \u001b[38;5;66;03m# message to avoid confusion.\u001b[39;00m\n\u001b[1;32m    219\u001b[0m     msg \u001b[38;5;241m=\u001b[39m re\u001b[38;5;241m.\u001b[39msub(\n\u001b[1;32m    220\u001b[0m         \u001b[38;5;124mr\u001b[39m\u001b[38;5;124m\"\u001b[39m\u001b[38;5;124mparameter of \u001b[39m\u001b[38;5;124m\\\u001b[39m\u001b[38;5;124mw+ must be\u001b[39m\u001b[38;5;124m\"\u001b[39m,\n\u001b[1;32m    221\u001b[0m         \u001b[38;5;124mf\u001b[39m\u001b[38;5;124m\"\u001b[39m\u001b[38;5;124mparameter of \u001b[39m\u001b[38;5;132;01m{\u001b[39;00mfunc\u001b[38;5;241m.\u001b[39m\u001b[38;5;18m__qualname__\u001b[39m\u001b[38;5;132;01m}\u001b[39;00m\u001b[38;5;124m must be\u001b[39m\u001b[38;5;124m\"\u001b[39m,\n\u001b[1;32m    222\u001b[0m         \u001b[38;5;28mstr\u001b[39m(e),\n\u001b[1;32m    223\u001b[0m     )\n",
      "File \u001b[0;32m~/Uni/Polimi/Thesis/master-thesis/.venv/lib/python3.10/site-packages/sklearn/metrics/_classification.py:356\u001b[0m, in \u001b[0;36mconfusion_matrix\u001b[0;34m(y_true, y_pred, labels, sample_weight, normalize)\u001b[0m\n\u001b[1;32m    354\u001b[0m         \u001b[38;5;28;01mreturn\u001b[39;00m np\u001b[38;5;241m.\u001b[39mzeros((n_labels, n_labels), dtype\u001b[38;5;241m=\u001b[39m\u001b[38;5;28mint\u001b[39m)\n\u001b[1;32m    355\u001b[0m     \u001b[38;5;28;01melif\u001b[39;00m \u001b[38;5;28mlen\u001b[39m(np\u001b[38;5;241m.\u001b[39mintersect1d(y_true, labels)) \u001b[38;5;241m==\u001b[39m \u001b[38;5;241m0\u001b[39m:\n\u001b[0;32m--> 356\u001b[0m         \u001b[38;5;28;01mraise\u001b[39;00m \u001b[38;5;167;01mValueError\u001b[39;00m(\u001b[38;5;124m\"\u001b[39m\u001b[38;5;124mAt least one label specified must be in y_true\u001b[39m\u001b[38;5;124m\"\u001b[39m)\n\u001b[1;32m    358\u001b[0m \u001b[38;5;28;01mif\u001b[39;00m sample_weight \u001b[38;5;129;01mis\u001b[39;00m \u001b[38;5;28;01mNone\u001b[39;00m:\n\u001b[1;32m    359\u001b[0m     sample_weight \u001b[38;5;241m=\u001b[39m np\u001b[38;5;241m.\u001b[39mones(y_true\u001b[38;5;241m.\u001b[39mshape[\u001b[38;5;241m0\u001b[39m], dtype\u001b[38;5;241m=\u001b[39mnp\u001b[38;5;241m.\u001b[39mint64)\n",
      "\u001b[0;31mValueError\u001b[0m: At least one label specified must be in y_true"
     ]
    }
   ],
   "source": [
    "import matplotlib.pyplot as plt\n",
    "from sklearn.metrics import confusion_matrix, ConfusionMatrixDisplay, classification_report\n",
    "\n",
    "\n",
    "def generate_confusion_matrix_and_report(true_labels: list[bool], predicted_labels: list[bool]):\n",
    "    labels = [\"non-conspiracy\",\"conspiracy\"]\n",
    "    conf_matrix = confusion_matrix(true_labels, predicted_labels, labels=labels)\n",
    "    report = classification_report(true_labels, predicted_labels, labels=labels)\n",
    "\n",
    "    return conf_matrix, report\n",
    "\n",
    "\n",
    "video_ids_by_model = {}\n",
    "failed_video_ids_by_model = {}\n",
    "\n",
    "for model in experiment.models:\n",
    "    predicted_labels_by_video_id = experiment.predicted_labels_by_model_and_video_id[model]\n",
    "\n",
    "    video_ids_by_model[model] = [video_id for video_id in video_ids if isinstance(predicted_labels_by_video_id[video_id], dict)]\n",
    "    failed_video_ids_by_model[model] = [video_id for video_id in video_ids if not isinstance(predicted_labels_by_video_id[video_id], dict)]\n",
    "\n",
    "    predicted_labels = [predicted_labels_by_video_id[video_id][\"is_conspiracy\"] for video_id in video_ids_by_model[model]]\n",
    "    true_labels_for_model = (true_labels[true_labels[\"video_id\"].isin(video_ids_by_model[model])])[\"majority_label\"]\n",
    "\n",
    "    print(true_labels_for_model)\n",
    "\n",
    "    conf_matrix, report = generate_confusion_matrix_and_report(true_labels_for_model, predicted_labels)\n",
    "    \n",
    "    print(model)\n",
    "    print(\"Failed video:\", len(failed_video_ids_by_model[model]))\n",
    "    print(report)\n",
    "    print()\n",
    "\n",
    "# disp = ConfusionMatrixDisplay(confusion_matrix=conf_matrix, display_labels=[\"0\", \"1\"])\n",
    "# disp.plot(cmap='Blues', values_format='d')\n",
    "\n",
    "# plt.title(\"Confusion Matrix\")\n",
    "# plt.show()\n",
    "\n"
   ]
  },
  {
   "cell_type": "code",
   "execution_count": null,
   "metadata": {},
   "outputs": [],
   "source": []
  }
 ],
 "metadata": {
  "kernelspec": {
   "display_name": ".venv",
   "language": "python",
   "name": "python3"
  },
  "language_info": {
   "codemirror_mode": {
    "name": "ipython",
    "version": 3
   },
   "file_extension": ".py",
   "mimetype": "text/x-python",
   "name": "python",
   "nbconvert_exporter": "python",
   "pygments_lexer": "ipython3",
   "version": "3.10.13"
  }
 },
 "nbformat": 4,
 "nbformat_minor": 2
}
